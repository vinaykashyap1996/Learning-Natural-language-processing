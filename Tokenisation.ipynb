{
 "cells": [
  {
   "cell_type": "code",
   "execution_count": 1,
   "id": "fe85ea8a",
   "metadata": {},
   "outputs": [],
   "source": [
    "import spacy"
   ]
  },
  {
   "cell_type": "code",
   "execution_count": 2,
   "id": "4ff32a78",
   "metadata": {},
   "outputs": [],
   "source": [
    "nlp =spacy.load('en_core_web_sm') "
   ]
  },
  {
   "cell_type": "code",
   "execution_count": 3,
   "id": "a4d1ca2a",
   "metadata": {},
   "outputs": [],
   "source": [
    "mystring = '\"We\\'re moving to L.A.!\"'"
   ]
  },
  {
   "cell_type": "code",
   "execution_count": 4,
   "id": "f9b303a6",
   "metadata": {},
   "outputs": [],
   "source": [
    "doc = nlp(mystring)"
   ]
  },
  {
   "cell_type": "code",
   "execution_count": 5,
   "id": "5077e81a",
   "metadata": {},
   "outputs": [
    {
     "name": "stdout",
     "output_type": "stream",
     "text": [
      "\"\n",
      "We\n",
      "'re\n",
      "moving\n",
      "to\n",
      "L.A.\n",
      "!\n",
      "\"\n"
     ]
    }
   ],
   "source": [
    "for token in doc:\n",
    "    print(token)"
   ]
  },
  {
   "cell_type": "code",
   "execution_count": 6,
   "id": "71542185",
   "metadata": {},
   "outputs": [],
   "source": [
    "doc2 = nlp(u\"We're here to help! Send snail-mail, email support@oursite.com or visit us at http://ourwebsite.com\")"
   ]
  },
  {
   "cell_type": "code",
   "execution_count": 7,
   "id": "a503feb3",
   "metadata": {},
   "outputs": [
    {
     "name": "stdout",
     "output_type": "stream",
     "text": [
      "We\n",
      "'re\n",
      "here\n",
      "to\n",
      "help\n",
      "!\n",
      "Send\n",
      "snail\n",
      "-\n",
      "mail\n",
      ",\n",
      "email\n",
      "support@oursite.com\n",
      "or\n",
      "visit\n",
      "us\n",
      "at\n",
      "http://ourwebsite.com\n"
     ]
    }
   ],
   "source": [
    "for token2 in doc2:\n",
    "    print(token2)"
   ]
  },
  {
   "cell_type": "code",
   "execution_count": 11,
   "id": "9c361fff",
   "metadata": {},
   "outputs": [],
   "source": [
    "doc3=nlp(u\"A 5KM NYC cab ride costs $10.30\")"
   ]
  },
  {
   "cell_type": "code",
   "execution_count": 12,
   "id": "e009426a",
   "metadata": {},
   "outputs": [
    {
     "name": "stdout",
     "output_type": "stream",
     "text": [
      "A\n",
      "5KM\n",
      "NYC\n",
      "cab\n",
      "ride\n",
      "costs\n",
      "$\n",
      "10.30\n"
     ]
    }
   ],
   "source": [
    "for token3 in doc3:\n",
    "    print(token3)"
   ]
  },
  {
   "cell_type": "markdown",
   "id": "cfc0586c",
   "metadata": {},
   "source": [
    "##### count the length of tokens"
   ]
  },
  {
   "cell_type": "code",
   "execution_count": 14,
   "id": "5439ab5f",
   "metadata": {},
   "outputs": [
    {
     "data": {
      "text/plain": [
       "8"
      ]
     },
     "execution_count": 14,
     "metadata": {},
     "output_type": "execute_result"
    }
   ],
   "source": [
    "len(doc3)"
   ]
  },
  {
   "cell_type": "markdown",
   "id": "94202395",
   "metadata": {},
   "source": [
    "##### count the number of vocabs"
   ]
  },
  {
   "cell_type": "code",
   "execution_count": 15,
   "id": "b4a83ae6",
   "metadata": {},
   "outputs": [
    {
     "data": {
      "text/plain": [
       "57852"
      ]
     },
     "execution_count": 15,
     "metadata": {},
     "output_type": "execute_result"
    }
   ],
   "source": [
    "len(doc3.vocab)"
   ]
  },
  {
   "cell_type": "code",
   "execution_count": 16,
   "id": "12bec19c",
   "metadata": {},
   "outputs": [],
   "source": [
    "doc4 = nlp(u\"It is bbetter to give than recieve\")"
   ]
  },
  {
   "cell_type": "code",
   "execution_count": 17,
   "id": "46559b1e",
   "metadata": {},
   "outputs": [
    {
     "data": {
      "text/plain": [
       "'re moving to"
      ]
     },
     "execution_count": 17,
     "metadata": {},
     "output_type": "execute_result"
    }
   ],
   "source": [
    "doc[2:5]"
   ]
  },
  {
   "cell_type": "code",
   "execution_count": 18,
   "id": "912f0166",
   "metadata": {},
   "outputs": [],
   "source": [
    "doc6 =nlp(u'Apple to build a India factory for $6 million')"
   ]
  },
  {
   "cell_type": "code",
   "execution_count": 19,
   "id": "198ffff0",
   "metadata": {},
   "outputs": [
    {
     "name": "stdout",
     "output_type": "stream",
     "text": [
      "Apple | to | build | a | India | factory | for | $ | 6 | million | "
     ]
    }
   ],
   "source": [
    "for token in doc6:\n",
    "    print(token.text,end= ' | ')"
   ]
  },
  {
   "cell_type": "markdown",
   "id": "bd3eb3ee",
   "metadata": {},
   "source": [
    "#### Print entity "
   ]
  },
  {
   "cell_type": "code",
   "execution_count": 22,
   "id": "6d6734e4",
   "metadata": {},
   "outputs": [
    {
     "name": "stdout",
     "output_type": "stream",
     "text": [
      "Apple\n",
      "ORG\n",
      "\n",
      "\n",
      "India\n",
      "GPE\n",
      "\n",
      "\n",
      "$6 million\n",
      "MONEY\n",
      "\n",
      "\n"
     ]
    }
   ],
   "source": [
    "for entity in doc6.ents:\n",
    "    print(entity)\n",
    "    print(entity.label_)\n",
    "    print('\\n')"
   ]
  },
  {
   "cell_type": "code",
   "execution_count": null,
   "id": "be7ce73f",
   "metadata": {},
   "outputs": [],
   "source": []
  }
 ],
 "metadata": {
  "kernelspec": {
   "display_name": "Python 3",
   "language": "python",
   "name": "python3"
  },
  "language_info": {
   "codemirror_mode": {
    "name": "ipython",
    "version": 3
   },
   "file_extension": ".py",
   "mimetype": "text/x-python",
   "name": "python",
   "nbconvert_exporter": "python",
   "pygments_lexer": "ipython3",
   "version": "3.7.10"
  }
 },
 "nbformat": 4,
 "nbformat_minor": 5
}
