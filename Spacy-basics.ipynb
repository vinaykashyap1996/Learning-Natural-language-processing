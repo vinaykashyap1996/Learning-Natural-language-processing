{
 "cells": [
  {
   "cell_type": "code",
   "execution_count": 4,
   "id": "562a0f28",
   "metadata": {},
   "outputs": [],
   "source": [
    "import spacy"
   ]
  },
  {
   "cell_type": "markdown",
   "id": "8a8ca2ff",
   "metadata": {},
   "source": [
    "##### How to load spacy"
   ]
  },
  {
   "cell_type": "code",
   "execution_count": 5,
   "id": "f9b56c80",
   "metadata": {},
   "outputs": [],
   "source": [
    "nlp = spacy.load('en_core_web_sm') "
   ]
  },
  {
   "cell_type": "code",
   "execution_count": 6,
   "id": "2439aedb",
   "metadata": {},
   "outputs": [],
   "source": [
    "doc = nlp(u'Tesla is looking at buying U.S. startup for $6 million')"
   ]
  },
  {
   "cell_type": "code",
   "execution_count": 10,
   "id": "63ff3ee8",
   "metadata": {},
   "outputs": [
    {
     "name": "stdout",
     "output_type": "stream",
     "text": [
      "Tesla PROPN nsubj\n",
      "is VERB aux\n",
      "looking VERB ROOT\n",
      "at ADP prep\n",
      "buying VERB pcomp\n",
      "U.S. PROPN compound\n",
      "startup NOUN dobj\n",
      "for ADP prep\n",
      "$ SYM quantmod\n",
      "6 NUM compound\n",
      "million NUM pobj\n"
     ]
    }
   ],
   "source": [
    "for token in doc:\n",
    "    print(token.text, token.pos_,token.dep_)"
   ]
  },
  {
   "cell_type": "code",
   "execution_count": 11,
   "id": "90deae5c",
   "metadata": {},
   "outputs": [
    {
     "data": {
      "text/plain": [
       "[('tagger', <spacy.pipeline.Tagger at 0x1ed069ef548>),\n",
       " ('parser', <spacy.pipeline.DependencyParser at 0x1ed069e9768>),\n",
       " ('ner', <spacy.pipeline.EntityRecognizer at 0x1ed069e9d08>)]"
      ]
     },
     "execution_count": 11,
     "metadata": {},
     "output_type": "execute_result"
    }
   ],
   "source": [
    "nlp.pipeline"
   ]
  },
  {
   "cell_type": "code",
   "execution_count": 12,
   "id": "2ca6c8cb",
   "metadata": {},
   "outputs": [
    {
     "data": {
      "text/plain": [
       "['tagger', 'parser', 'ner']"
      ]
     },
     "execution_count": 12,
     "metadata": {},
     "output_type": "execute_result"
    }
   ],
   "source": [
    "nlp.pipe_names"
   ]
  },
  {
   "cell_type": "code",
   "execution_count": null,
   "id": "58ce5417",
   "metadata": {},
   "outputs": [],
   "source": []
  },
  {
   "cell_type": "code",
   "execution_count": 13,
   "id": "a81f8ee6",
   "metadata": {},
   "outputs": [],
   "source": [
    "doc2 = nlp(u\"Tesla isn't looking into startups anymore.\")"
   ]
  },
  {
   "cell_type": "code",
   "execution_count": 14,
   "id": "fb18589a",
   "metadata": {},
   "outputs": [
    {
     "name": "stdout",
     "output_type": "stream",
     "text": [
      "Tesla PROPN nsubj\n",
      "is VERB aux\n",
      "n't ADV neg\n",
      "looking VERB ROOT\n",
      "into ADP prep\n",
      "startups NOUN pobj\n",
      "anymore ADV advmod\n",
      ". PUNCT punct\n"
     ]
    }
   ],
   "source": [
    "for token in doc2:\n",
    "    print(token.text, token.pos_,token.dep_)"
   ]
  },
  {
   "cell_type": "code",
   "execution_count": 16,
   "id": "1fc36681",
   "metadata": {},
   "outputs": [
    {
     "data": {
      "text/plain": [
       "Tesla"
      ]
     },
     "execution_count": 16,
     "metadata": {},
     "output_type": "execute_result"
    }
   ],
   "source": [
    "doc2[0]"
   ]
  },
  {
   "cell_type": "code",
   "execution_count": 17,
   "id": "587ae515",
   "metadata": {},
   "outputs": [
    {
     "data": {
      "text/plain": [
       "'PROPN'"
      ]
     },
     "execution_count": 17,
     "metadata": {},
     "output_type": "execute_result"
    }
   ],
   "source": [
    "doc[0].pos_"
   ]
  },
  {
   "cell_type": "code",
   "execution_count": 18,
   "id": "6f63164e",
   "metadata": {},
   "outputs": [
    {
     "data": {
      "text/plain": [
       "'nsubj'"
      ]
     },
     "execution_count": 18,
     "metadata": {},
     "output_type": "execute_result"
    }
   ],
   "source": [
    "doc[0].dep_"
   ]
  },
  {
   "cell_type": "code",
   "execution_count": 19,
   "id": "a997f1d8",
   "metadata": {},
   "outputs": [],
   "source": [
    "doc3= nlp(u\"Cook the rice the day before, or use leftover rice in the refrigerator. The important thing to remember is not to heat up the rice, but keep it cold. In a bowl, add 1 tablespoon of oil to rice\")"
   ]
  },
  {
   "cell_type": "markdown",
   "id": "b012acd2",
   "metadata": {},
   "source": [
    "##### Slice operation"
   ]
  },
  {
   "cell_type": "code",
   "execution_count": 20,
   "id": "16776dd8",
   "metadata": {},
   "outputs": [],
   "source": [
    "quote = doc3[16:30]"
   ]
  },
  {
   "cell_type": "code",
   "execution_count": 21,
   "id": "3c8b4081",
   "metadata": {},
   "outputs": [
    {
     "data": {
      "text/plain": [
       "important thing to remember is not to heat up the rice, but keep"
      ]
     },
     "execution_count": 21,
     "metadata": {},
     "output_type": "execute_result"
    }
   ],
   "source": [
    "quote"
   ]
  },
  {
   "cell_type": "code",
   "execution_count": 22,
   "id": "e6216922",
   "metadata": {},
   "outputs": [
    {
     "data": {
      "text/plain": [
       "spacy.tokens.span.Span"
      ]
     },
     "execution_count": 22,
     "metadata": {},
     "output_type": "execute_result"
    }
   ],
   "source": [
    "type(quote)"
   ]
  },
  {
   "cell_type": "code",
   "execution_count": 23,
   "id": "414a6b23",
   "metadata": {},
   "outputs": [
    {
     "data": {
      "text/plain": [
       "spacy.tokens.doc.Doc"
      ]
     },
     "execution_count": 23,
     "metadata": {},
     "output_type": "execute_result"
    }
   ],
   "source": [
    "type(doc3)"
   ]
  },
  {
   "cell_type": "markdown",
   "id": "fa17614e",
   "metadata": {},
   "source": [
    "#### print sentence"
   ]
  },
  {
   "cell_type": "code",
   "execution_count": 24,
   "id": "d9a7ee7d",
   "metadata": {},
   "outputs": [
    {
     "name": "stdout",
     "output_type": "stream",
     "text": [
      "Cook the rice the day before, or use leftover rice in the refrigerator.\n",
      "The important thing to remember is not to heat up the rice, but keep it cold.\n",
      "In a bowl, add 1 tablespoon of oil to rice\n"
     ]
    }
   ],
   "source": [
    "for sentense in doc3.sents:\n",
    "    print(sentense)"
   ]
  },
  {
   "cell_type": "code",
   "execution_count": 27,
   "id": "dcf37fe0",
   "metadata": {},
   "outputs": [],
   "source": [
    "doc3[1].is_sent_start  #Check if it is the start of sentense"
   ]
  },
  {
   "cell_type": "code",
   "execution_count": null,
   "id": "36eae01a",
   "metadata": {},
   "outputs": [],
   "source": []
  }
 ],
 "metadata": {
  "kernelspec": {
   "display_name": "Python 3",
   "language": "python",
   "name": "python3"
  },
  "language_info": {
   "codemirror_mode": {
    "name": "ipython",
    "version": 3
   },
   "file_extension": ".py",
   "mimetype": "text/x-python",
   "name": "python",
   "nbconvert_exporter": "python",
   "pygments_lexer": "ipython3",
   "version": "3.7.10"
  }
 },
 "nbformat": 4,
 "nbformat_minor": 5
}
